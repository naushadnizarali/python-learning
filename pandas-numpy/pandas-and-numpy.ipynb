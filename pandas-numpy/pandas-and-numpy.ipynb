{
 "cells": [
  {
   "cell_type": "markdown",
   "id": "f5465207",
   "metadata": {},
   "source": [
    "# Comparison between Pandas and NumPy"
   ]
  },
  {
   "cell_type": "markdown",
   "id": "332a3568",
   "metadata": {},
   "source": [
    "| Pandas | Numpy |\n",
    "| :---- | :---- |\n",
    "| Tabular Data | Numerical Data |\n",
    "| above 500K better performance | 50K or less has better performance |\n",
    "| more memory consumption | less memory consumption |\n",
    "| 2d table called DataFrame | Multi-dimensional Array |\n",
    "| Indexing is slow in pandaSeries | Indexing of numpy Arrays is fast |\n",
    "| implicit defined integer index | explicitly defined index associated with the values |"
   ]
  },
  {
   "cell_type": "markdown",
   "id": "1d90bb11",
   "metadata": {},
   "source": [
    "## NumPy"
   ]
  },
  {
   "cell_type": "code",
   "execution_count": null,
   "id": "e89eb80a",
   "metadata": {},
   "outputs": [],
   "source": [
    "import numpy as np"
   ]
  },
  {
   "cell_type": "markdown",
   "id": "37dcbbb3",
   "metadata": {},
   "source": [
    "#### 1D Array"
   ]
  },
  {
   "cell_type": "code",
   "execution_count": null,
   "id": "be752371",
   "metadata": {},
   "outputs": [],
   "source": [
    "# 1D array\n",
    "x = np.array((1, 2, 3, 4, 5))\n",
    "\n",
    "print('Contents:', x)\n",
    "\n",
    "print('Type:', type(x))\n",
    "\n",
    "print('Dimensions:', x.shape)"
   ]
  },
  {
   "cell_type": "markdown",
   "id": "e8843811",
   "metadata": {},
   "source": [
    "#### 2D Array"
   ]
  },
  {
   "cell_type": "code",
   "execution_count": null,
   "id": "8729483a",
   "metadata": {
    "scrolled": true
   },
   "outputs": [],
   "source": [
    "# 2D array\n",
    "y = np.array([[1,2,3],[4,5,6],[7,8,9], [10,11,12]])\n",
    "\n",
    "print('Contents:', y)\n",
    "\n",
    "print('Type:', type(y))\n",
    "\n",
    "print('Dimensions:', y.shape)"
   ]
  },
  {
   "cell_type": "markdown",
   "id": "e8748361",
   "metadata": {},
   "source": [
    "#### Arrange"
   ]
  },
  {
   "cell_type": "code",
   "execution_count": null,
   "id": "9dfb9956",
   "metadata": {
    "scrolled": true
   },
   "outputs": [],
   "source": [
    "# Arange\n",
    "x = np.arange(10)\n",
    "print(x)\n",
    "\n",
    "x = np.arange(100,1000, 100)\n",
    "print(x)\n",
    "\n",
    "x = np.arange(1,14,2)\n",
    "print(x)"
   ]
  },
  {
   "cell_type": "markdown",
   "id": "cd82c766",
   "metadata": {},
   "source": [
    "#### Linspace"
   ]
  },
  {
   "cell_type": "code",
   "execution_count": null,
   "id": "74c5f1e4",
   "metadata": {},
   "outputs": [],
   "source": [
    "# Linspace\n",
    "x = np.linspace(1,10,7)\n",
    "print(x)"
   ]
  },
  {
   "cell_type": "markdown",
   "id": "3bd9943f",
   "metadata": {},
   "source": [
    "#### Reshape"
   ]
  },
  {
   "cell_type": "code",
   "execution_count": null,
   "id": "a557822b",
   "metadata": {},
   "outputs": [],
   "source": [
    "# Reshape\n",
    "x = np.arange(15)\n",
    "print(x)\n",
    "\n",
    "x = np.reshape(x, (3, 5))\n",
    "print(x)"
   ]
  },
  {
   "cell_type": "markdown",
   "id": "1d64591f",
   "metadata": {},
   "source": [
    "#### Identity matrix"
   ]
  },
  {
   "cell_type": "code",
   "execution_count": null,
   "id": "05d8c8b5",
   "metadata": {},
   "outputs": [],
   "source": [
    "# Identity matrix\n",
    "mat = np.eye(3)\n",
    "\n",
    "print(mat)"
   ]
  },
  {
   "cell_type": "markdown",
   "id": "53b3847b",
   "metadata": {},
   "source": [
    "#### Diagonal matrix"
   ]
  },
  {
   "cell_type": "code",
   "execution_count": null,
   "id": "73750fbf",
   "metadata": {},
   "outputs": [],
   "source": [
    "# Diagonal Matrix\n",
    "diag = np.diag([10,20,30,40,50,60])\n",
    "\n",
    "print(diag)"
   ]
  },
  {
   "cell_type": "markdown",
   "id": "b80cbc52",
   "metadata": {},
   "source": [
    "#### Slicing"
   ]
  },
  {
   "cell_type": "code",
   "execution_count": null,
   "id": "341d1619",
   "metadata": {},
   "outputs": [],
   "source": [
    "# Slicing\n",
    "\n",
    "arr = np.arange(20).reshape(4, 5)\n",
    "print('1: ', arr)\n",
    "\n",
    "# 3-4 row, 2-5 columns\n",
    "x = arr[2:4,1:5]\n",
    "print('2: ',x)\n",
    "\n",
    "# or\n",
    "x = arr[2:,1:5]\n",
    "print('3: ',x)\n",
    "\n",
    "# 3rd row\n",
    "x = arr[2,:]\n",
    "print('4: ',x)\n",
    "\n",
    "# 3rd column\n",
    "x = arr[:,2]\n",
    "print('5: ',x)\n"
   ]
  },
  {
   "cell_type": "markdown",
   "id": "8580bbcb",
   "metadata": {},
   "source": [
    "#### Random"
   ]
  },
  {
   "cell_type": "code",
   "execution_count": null,
   "id": "fd13783c",
   "metadata": {},
   "outputs": [],
   "source": [
    "# Random\n",
    "\n",
    "arr = np.random.random((3,3))\n",
    "print('1: ',arr)\n",
    "\n",
    "# np.random.randint(start, stop, size = shape)\n",
    "arr = np.random.randint(4,15,size=(3,2))\n",
    "print('2: ',arr)\n",
    "\n",
    "# np.random.normal(mean, standard deviation, size=shape)\n",
    "arr = np.random.normal(0, 1, size=(10,10))\n",
    "print('3: ',arr)"
   ]
  },
  {
   "cell_type": "markdown",
   "id": "d0091791",
   "metadata": {},
   "source": [
    "#### Delete"
   ]
  },
  {
   "cell_type": "code",
   "execution_count": null,
   "id": "07b5c293",
   "metadata": {},
   "outputs": [],
   "source": [
    "# Delete\n",
    "# np.delete(ndarray, elements, axis)\n",
    "\n",
    "x = np.array([1, 2, 3, 4, 5])\n",
    "\n",
    "# delete 1st and 5th element\n",
    "x = np.delete(x, [0,4])\n",
    "\n",
    "y = np.array([[1,2,3],[4,5,6],[7,8,9]])\n",
    "\n",
    "# delete 1st row\n",
    "a = np.delete(y, 0, axis=0) # axis 0 is for rows\n",
    "\n",
    "# delete 1st and last column\n",
    "b = np.delete(y, [0,2], axis=1) # axis 1 is for columns"
   ]
  },
  {
   "cell_type": "markdown",
   "id": "a46468db",
   "metadata": {},
   "source": [
    "#### Append"
   ]
  },
  {
   "cell_type": "code",
   "execution_count": null,
   "id": "15c053e4",
   "metadata": {},
   "outputs": [],
   "source": [
    "# Append\n",
    "# np.append(ndarray, elements, axis)\n",
    "\n",
    "x = np.append(x, 6)\n",
    "\n",
    "# append 7, 8\n",
    "x = np.append(x, [7,8])\n",
    "\n",
    "# append row\n",
    "v = np.append(y, [[10,11,12]], axis=0)\n",
    "\n",
    "# append column\n",
    "q = np.append(y,[[13],[14],[15]], axis=1)"
   ]
  },
  {
   "cell_type": "markdown",
   "id": "332130c2",
   "metadata": {},
   "source": [
    "#### Insert"
   ]
  },
  {
   "cell_type": "code",
   "execution_count": null,
   "id": "ee73dba7",
   "metadata": {},
   "outputs": [],
   "source": [
    "# Insert\n",
    "# np.insert(ndarray, index, elements, axis)\n",
    "\n",
    "x = np.array([1, 2, 5, 6, 7])\n",
    "y = np.array([[1,2,3],[7,8,9]])\n",
    "\n",
    "# insert 3,4 at 3rd index \n",
    "x = np.insert(x,2,[3,4])\n",
    "\n",
    "# insert row at index 1\n",
    "w = np.insert(y,1,[4,5,6],axis=0)\n",
    "\n",
    "# insert column with all 5 at index 1\n",
    "v = np.insert(y,1,5, axis=1)"
   ]
  },
  {
   "cell_type": "markdown",
   "id": "6490846f",
   "metadata": {},
   "source": [
    "#### Element along Diagnol"
   ]
  },
  {
   "cell_type": "code",
   "execution_count": null,
   "id": "163341ad",
   "metadata": {},
   "outputs": [],
   "source": [
    "print(x)\n",
    "\n",
    "# Extract elements along the diagonal\n",
    "d0 = np.diag(x)\n",
    "print(d0)\n",
    "\n",
    "# above diagnol\n",
    "d1 = np.diag(x, k=1)\n",
    "print(d1)\n",
    "\n",
    "# below diagnol\n",
    "d2 = np.diag(x, k=-1)\n",
    "print(d2)"
   ]
  },
  {
   "cell_type": "markdown",
   "id": "d96fc7fc",
   "metadata": {},
   "source": [
    "#### Sorting"
   ]
  },
  {
   "cell_type": "code",
   "execution_count": null,
   "id": "8bd2166e",
   "metadata": {},
   "outputs": [],
   "source": [
    "x = np.array([[1, 2, 3, 6,7,8, 4,5, 6]])\n",
    "print(x)\n",
    "# Sorting\n",
    "# When used as a function, it doesn't change the original ndarray\n",
    "s = np.sort(x)\n",
    "print(s)\n",
    "# When used as a method, the original array will be sorted\n",
    "x.sort()\n",
    "\n",
    "# sort x but only keep the unique elements in x\n",
    "s = np.sort(np.unique(x))\n",
    "print(s)\n",
    "\n",
    "# sort the columns of X\n",
    "s = np.sort(x, axis = 0)\n",
    "print(s)\n",
    "\n",
    "# sort the rows of X\n",
    "s = np.sort(x, axis = 1)\n",
    "print(s)"
   ]
  },
  {
   "cell_type": "markdown",
   "id": "11552ac4",
   "metadata": {},
   "source": [
    "#### Math Functions"
   ]
  },
  {
   "cell_type": "code",
   "execution_count": null,
   "id": "e097d7e6",
   "metadata": {},
   "outputs": [],
   "source": [
    "x = np.array([1,2,3,4])\n",
    "y = np.array([5.5,6.5,7.5,8.5])\n",
    "print(np.add(x,y))\n",
    "print(np.subtract(x,y))\n",
    "print(np.multiply(x,y))\n",
    "print(np.divide(x,y))\n",
    "\n",
    "X = np.array([1,2,3,4]).reshape(2,2)\n",
    "Y = np.array([5.5,6.5,7.5,8.5]).reshape(2,2)\n",
    "np.add(X,Y)\n",
    "np.subtract(X,Y)\n",
    "np.multiply(X,Y)\n",
    "np.divide(X,Y)\n",
    "\n",
    "print(np.exp(x))\n",
    "print(np.sqrt(x))\n",
    "print(np.power(x,2))"
   ]
  },
  {
   "cell_type": "markdown",
   "id": "7f863066",
   "metadata": {},
   "source": [
    "#### Statistical"
   ]
  },
  {
   "cell_type": "code",
   "execution_count": null,
   "id": "da31a761",
   "metadata": {},
   "outputs": [],
   "source": [
    "# Statistical Functions\n",
    "print('Average of all elements in X:', X.mean())\n",
    "print('Average of all elements in the columns of X:', X.mean(axis=0))\n",
    "print('Average of all elements in the rows of X:', X.mean(axis=1))\n",
    "print()\n",
    "print('Sum of all elements in X:', X.sum())\n",
    "print('Standard Deviation of all elements in X:', X.std())\n",
    "print('Median of all elements in X:', np.median(X))\n",
    "print('Maximum value of all elements in X:', X.max())\n",
    "print('Minimum value of all elements in X:', X.min())"
   ]
  },
  {
   "cell_type": "markdown",
   "id": "a3772dfe",
   "metadata": {},
   "source": [
    "## Pandas"
   ]
  },
  {
   "cell_type": "code",
   "execution_count": null,
   "id": "05ff5952",
   "metadata": {},
   "outputs": [],
   "source": [
    "import pandas as pd"
   ]
  },
  {
   "cell_type": "markdown",
   "id": "95cbbf78",
   "metadata": {},
   "source": [
    "### Series\n",
    "1D array-like object that can hold many data types.\n",
    "\n",
    "`pd.Series(data, index)`"
   ]
  },
  {
   "cell_type": "markdown",
   "id": "64499c3d",
   "metadata": {},
   "source": [
    "#### Create Series"
   ]
  },
  {
   "cell_type": "code",
   "execution_count": null,
   "id": "49c96ac1",
   "metadata": {},
   "outputs": [],
   "source": [
    "groceries = pd.Series(data = [30, 6, 'Yes', 'No'], index = ['eggs', 'apples', 'milk', 'bread'])"
   ]
  },
  {
   "cell_type": "code",
   "execution_count": null,
   "id": "2a5d5ddb",
   "metadata": {},
   "outputs": [],
   "source": [
    "print('Shape:', groceries.shape)\n",
    "print('Dimension:', groceries.ndim)\n",
    "print('Total', groceries.size, 'elements')\n",
    "print('Content:', groceries.values)\n",
    "print('Indices:', groceries.index)"
   ]
  },
  {
   "cell_type": "markdown",
   "id": "7cb9eb9e",
   "metadata": {},
   "source": [
    "#### Access Element"
   ]
  },
  {
   "cell_type": "code",
   "execution_count": null,
   "id": "742d4638",
   "metadata": {},
   "outputs": [],
   "source": [
    "print('Content:', groceries.values)\n",
    "print('Indices:', groceries.index)\n",
    "\n",
    "## Index Labels\n",
    "# single index label\n",
    "print('How many eggs do we need to buy:', groceries['eggs'])\n",
    "\n",
    "# access multiple index labels\n",
    "print('Do we need milk and bread:\\n', groceries[['milk', 'bread']]) \n",
    "\n",
    "# use loc to access multiple index labels\n",
    "print('How many eggs and apples do we need to buy:\\n', groceries.loc[['eggs', 'apples']]) \n",
    "\n",
    "## Numerical Indices\n",
    "# use multiple numerical indices\n",
    "print('How many eggs and apples do we need to buy:\\n',  groceries[[0, 1]]) \n",
    "\n",
    "# use a negative numerical index\n",
    "print('Do we need bread:\\n', groceries[[-1]]) \n",
    "\n",
    "# use a single numerical index\n",
    "print('How many eggs do we need to buy:', groceries[0]) \n",
    "\n",
    "# use iloc (stands for integer location) to access multiple numerical indices\n",
    "print('Do we need milk and bread:\\n', groceries.iloc[[2, 3]])"
   ]
  },
  {
   "cell_type": "markdown",
   "id": "0c8674d8",
   "metadata": {},
   "source": [
    "#### Deletion"
   ]
  },
  {
   "cell_type": "code",
   "execution_count": null,
   "id": "4360b1f2",
   "metadata": {},
   "outputs": [],
   "source": [
    "# Delete Elements\n",
    "# doesn't change the original Series being modified\n",
    "groceries.drop('apples')\n",
    "print(groceries)\n",
    "# delete items from Series in place by setting keyword inplace to True\n",
    "groceries.drop('apples', inplace = True)\n",
    "print(groceries)"
   ]
  },
  {
   "cell_type": "markdown",
   "id": "dd9c7586",
   "metadata": {},
   "source": [
    "### Dataframe\n",
    "Pandas DataFrames are two-dimensional data structures with labeled rows and columns, that can hold many data types."
   ]
  },
  {
   "cell_type": "markdown",
   "id": "0d76b1f3",
   "metadata": {},
   "source": [
    "#### Axes"
   ]
  },
  {
   "cell_type": "code",
   "execution_count": null,
   "id": "ea0644b8",
   "metadata": {},
   "outputs": [],
   "source": [
    "data = {\n",
    "  \"calories\": [420, 380, 390],\n",
    "  \"duration\": [50, 40, 45]\n",
    "}\n",
    "\n",
    "#load data into a DataFrame object:\n",
    "df = pd.DataFrame(data)\n",
    "               \n",
    "print(df)\n",
    "\n",
    "# understanding axes\n",
    "df.sum()       \n",
    "# sums “down” the 0 axis (rows)\n",
    "df.sum(axis=0) \n",
    "# equivalent (since axis=0 is the default)\n",
    "df.sum(axis=1) \n",
    "# sums “across” the 1 axis (columns)"
   ]
  },
  {
   "cell_type": "code",
   "execution_count": null,
   "id": "dc7bc6a4",
   "metadata": {},
   "outputs": [],
   "source": [
    "df = pd.read_csv('../datasets/data.csv')\n",
    "\n",
    "# limit which rows are read when reading in a file\n",
    "df2 = pd.read_csv('../datasets/data.csv', nrows=10)   \n",
    "\n",
    "df3 = pd.read_csv('../datasets/data.csv', skiprows=[1,2]) # skip first two rows\n",
    "\n",
    "train = df.sample(frac=0.75) # 75% data\n",
    "\n",
    "test = df[~df.index.isin(train.index)]  # 25% data"
   ]
  },
  {
   "cell_type": "code",
   "execution_count": null,
   "id": "2ee73061",
   "metadata": {},
   "outputs": [],
   "source": [
    "# create a dictionary of Pandas Series \n",
    "items = {'Bob' : pd.Series(data = [245, 25, 55], index = ['bike', 'pants', 'watch']),\n",
    "         'Alice' : pd.Series(data = [40, 110, 500, 45], index = ['book', 'glasses', 'bike', 'pants'])}\n",
    "\n",
    "# print the type of items to see that it is a dictionary\n",
    "# print(items) # class 'dict'\n",
    "\n",
    "# create a Pandas DataFrame by passing it a dictionary of Series\n",
    "shopping_carts = pd.DataFrame(items)\n",
    "shopping_carts\n",
    "\n",
    "# create a DataFrame that only has a subset of the data/columns\n",
    "bob_shopping_cart = pd.DataFrame(items, columns=['Bob'])\n",
    "bob_shopping_cart\n",
    "\n",
    "# create a DataFrame that only has selected keys\n",
    "sel_shopping_cart = pd.DataFrame(items, index = ['pants', 'book'])\n",
    "sel_shopping_cart\n",
    "\n",
    "# combine both of the above - selected keys for selected columns\n",
    "alice_sel_shopping_cart = pd.DataFrame(items, index = ['glasses', 'bike'], columns = ['Alice'])\n",
    "shopping_carts\n"
   ]
  },
  {
   "cell_type": "code",
   "execution_count": null,
   "id": "1d086331",
   "metadata": {},
   "outputs": [],
   "source": [
    "# create DataFrames from a list of Python dictionaries\n",
    "# create a list of Python dictionaries\n",
    "items2 = [{'bikes': 20, 'pants': 30, 'watches': 35}, \n",
    "          {'watches': 10, 'glasses': 50, 'bikes': 15, 'pants':5}]\n",
    "\n",
    "# create a DataFrame \n",
    "store_items = pd.DataFrame(items2)\n",
    "\n",
    "# create a DataFrame and provide the row index\n",
    "store_items = pd.DataFrame(items2, index = ['store 1', 'store 2'])\n",
    "\n",
    "store_items"
   ]
  },
  {
   "cell_type": "code",
   "execution_count": null,
   "id": "0c976271",
   "metadata": {},
   "outputs": [],
   "source": [
    "books = pd.Series(data = ['Great Expectations', 'Of Mice and Men', 'Romeo and Juliet', 'The Time Machine', 'Alice in Wonderland' ])\n",
    "authors = pd.Series(data = ['Charles Dickens', 'John Steinbeck', 'William Shakespeare', ' H. G. Wells', 'Lewis Carroll' ])\n",
    "user_1 = pd.Series(data = [3.2, np.nan ,2.5])\n",
    "user_2 = pd.Series(data = [5., 1.3, 4.0, 3.8])\n",
    "user_3 = pd.Series(data = [2.0, 2.3, np.nan, 4])\n",
    "user_4 = pd.Series(data = [4, 3.5, 4, 5, 4.2])\n",
    "\n",
    "\n",
    "# Create a dictionary with the data given above\n",
    "a_dict = {'Author':authors,'Book Title':books,'User 1':user_1, 'User 2':user_2, 'User 3':user_3, 'User 4':user_4}\n",
    "\n",
    "# Use the dictionary to create a Pandas DataFrame\n",
    "book_ratings = pd.DataFrame(a_dict)\n",
    "book_ratings"
   ]
  },
  {
   "cell_type": "code",
   "execution_count": null,
   "id": "d8d7cd10",
   "metadata": {},
   "outputs": [],
   "source": [
    "book_ratings_numpy = book_ratings.values\n",
    "book_ratings_numpy"
   ]
  },
  {
   "cell_type": "markdown",
   "id": "46a02794",
   "metadata": {},
   "source": [
    "#### Access Elements"
   ]
  },
  {
   "cell_type": "code",
   "execution_count": null,
   "id": "26b7721b",
   "metadata": {},
   "outputs": [],
   "source": [
    "# Access Elements\n",
    "print()\n",
    "print('How many bikes are in each store:\\n', store_items[['bikes']])\n",
    "print()\n",
    "print('How many bikes and pants are in each store:\\n', store_items[['bikes', 'pants']])\n",
    "print()\n",
    "print('What items are in Store 1:\\n', store_items.loc[['store 1']])\n",
    "print()\n",
    "print('How many bikes are in Store 2:', store_items['bikes']['store 2'])"
   ]
  },
  {
   "cell_type": "code",
   "execution_count": null,
   "id": "bef6a4d1",
   "metadata": {},
   "outputs": [],
   "source": [
    "store_items['shirts'] = [15,np.nan]\n",
    "\n",
    "store_items['suits'] = store_items['shirts'] + store_items['pants']\n",
    "\n",
    "store_items"
   ]
  },
  {
   "cell_type": "code",
   "execution_count": null,
   "id": "32536657",
   "metadata": {},
   "outputs": [],
   "source": [
    "new_store = pd.DataFrame([{'bikes': 80, 'pants': 1, 'watches': 15}], index=['store_4'])\n",
    "\n",
    "store_items = store_items.append(new_store)\n",
    "\n",
    "store_items.insert(3, 'shoes', [8,5,0])\n",
    "\n",
    "store_items"
   ]
  },
  {
   "cell_type": "code",
   "execution_count": null,
   "id": "e1e9265d",
   "metadata": {},
   "outputs": [],
   "source": [
    "# Rename the row and column labels\n",
    "# change the column label\n",
    "store_items = store_items.rename(columns = {'bikes': 'hats'})\n",
    "# change the row label\n",
    "store_items = store_items.rename(index = {'store 3': 'last store'})"
   ]
  },
  {
   "cell_type": "code",
   "execution_count": null,
   "id": "35f2b8eb",
   "metadata": {},
   "outputs": [],
   "source": [
    "store_items"
   ]
  },
  {
   "cell_type": "code",
   "execution_count": null,
   "id": "2d4fb469",
   "metadata": {},
   "outputs": [],
   "source": [
    "# Dealing with NaN values (missing data)\n",
    "\n",
    "# create a list of Python dictionaries\n",
    "items2 = [{'bikes': 20, 'pants': 30, 'watches': 35, 'shirts': 15, 'shoes':8, 'suits':45},\n",
    "{'watches': 10, 'glasses': 50, 'bikes': 15, 'pants':5, 'shirts': 2, 'shoes':5, 'suits':7},\n",
    "{'bikes': 20, 'pants': 30, 'watches': 35, 'glasses': 4, 'shoes':10}]\n",
    "\n",
    "# We create a DataFrame and provide the row index\n",
    "store_items = pd.DataFrame(items2, index = ['store 1', 'store 2', 'store 3'])\n",
    "\n",
    "store_items"
   ]
  },
  {
   "cell_type": "code",
   "execution_count": null,
   "id": "eb7add96",
   "metadata": {},
   "outputs": [],
   "source": [
    "df.isnull().any()"
   ]
  },
  {
   "cell_type": "code",
   "execution_count": null,
   "id": "48b66d20",
   "metadata": {},
   "outputs": [],
   "source": [
    "store_items.isnull().sum()"
   ]
  },
  {
   "cell_type": "code",
   "execution_count": null,
   "id": "8e6f6e85",
   "metadata": {},
   "outputs": [],
   "source": [
    "store_items.isnull().sum().sum()"
   ]
  },
  {
   "cell_type": "code",
   "execution_count": null,
   "id": "442bd39d",
   "metadata": {},
   "outputs": [],
   "source": [
    "store_items.isnull().count()"
   ]
  },
  {
   "cell_type": "code",
   "execution_count": null,
   "id": "534480eb",
   "metadata": {},
   "outputs": [],
   "source": [
    "store_items.dropna(axis = 0)\n",
    "store_items.dropna(axis = 1)\n",
    "store_items"
   ]
  },
  {
   "cell_type": "code",
   "execution_count": null,
   "id": "35e00ed6",
   "metadata": {},
   "outputs": [],
   "source": [
    "df.head()\n",
    "df.tail()\n",
    "df.describe()\n",
    "# prints max value in each column\n",
    "df.max()\n",
    "\n",
    "# display the memory usage of a DataFrame\n",
    "# total usage\n",
    "df.info()\n",
    "# usage by column\n",
    "df.memory_usage()"
   ]
  },
  {
   "cell_type": "code",
   "execution_count": null,
   "id": "736a7055",
   "metadata": {},
   "outputs": [],
   "source": [
    "df.corr()"
   ]
  },
  {
   "cell_type": "code",
   "execution_count": null,
   "id": "69dfb97e",
   "metadata": {},
   "outputs": [],
   "source": [
    "store_items"
   ]
  },
  {
   "cell_type": "code",
   "execution_count": null,
   "id": "afac5214",
   "metadata": {},
   "outputs": [],
   "source": [
    "store_items.groupby(['shoes'])['watches'].mean()"
   ]
  },
  {
   "cell_type": "markdown",
   "id": "a17e8455",
   "metadata": {},
   "source": [
    "#### Reading Files"
   ]
  },
  {
   "cell_type": "code",
   "execution_count": null,
   "id": "bf935f56",
   "metadata": {},
   "outputs": [],
   "source": [
    "df = pd.read_table('../datasets/Resume.csv', sep=',', index_col='ID')\n",
    "df"
   ]
  },
  {
   "cell_type": "code",
   "execution_count": null,
   "id": "9f177d80",
   "metadata": {},
   "outputs": [],
   "source": [
    "df"
   ]
  },
  {
   "cell_type": "code",
   "execution_count": null,
   "id": "129eacba",
   "metadata": {},
   "outputs": [],
   "source": [
    "type(df)"
   ]
  },
  {
   "cell_type": "code",
   "execution_count": null,
   "id": "5518145c",
   "metadata": {},
   "outputs": [],
   "source": [
    "df.head()"
   ]
  },
  {
   "cell_type": "code",
   "execution_count": null,
   "id": "6a25e940",
   "metadata": {},
   "outputs": [],
   "source": [
    "df.tail()"
   ]
  },
  {
   "cell_type": "code",
   "execution_count": null,
   "id": "48dd0255",
   "metadata": {},
   "outputs": [],
   "source": [
    "df.index"
   ]
  },
  {
   "cell_type": "code",
   "execution_count": null,
   "id": "ab7559a8",
   "metadata": {},
   "outputs": [],
   "source": [
    "df.columns"
   ]
  },
  {
   "cell_type": "code",
   "execution_count": null,
   "id": "48f9db8c",
   "metadata": {},
   "outputs": [],
   "source": [
    "df.dtypes"
   ]
  },
  {
   "cell_type": "code",
   "execution_count": null,
   "id": "e40eca9b",
   "metadata": {},
   "outputs": [],
   "source": [
    "df.shape"
   ]
  },
  {
   "cell_type": "code",
   "execution_count": null,
   "id": "ade2beb1",
   "metadata": {},
   "outputs": [],
   "source": [
    "df.values"
   ]
  },
  {
   "cell_type": "code",
   "execution_count": null,
   "id": "5a50365e",
   "metadata": {},
   "outputs": [],
   "source": [
    "df.describe()"
   ]
  },
  {
   "cell_type": "code",
   "execution_count": null,
   "id": "2c1042bc",
   "metadata": {},
   "outputs": [],
   "source": [
    "df.describe(include=['object'])"
   ]
  },
  {
   "cell_type": "code",
   "execution_count": null,
   "id": "dfa21769",
   "metadata": {},
   "outputs": [],
   "source": [
    "df.describe(include='all')"
   ]
  },
  {
   "cell_type": "code",
   "execution_count": null,
   "id": "bf4f9b22",
   "metadata": {},
   "outputs": [],
   "source": []
  }
 ],
 "metadata": {
  "kernelspec": {
   "display_name": "Python 3 (ipykernel)",
   "language": "python",
   "name": "python3"
  },
  "language_info": {
   "codemirror_mode": {
    "name": "ipython",
    "version": 3
   },
   "file_extension": ".py",
   "mimetype": "text/x-python",
   "name": "python",
   "nbconvert_exporter": "python",
   "pygments_lexer": "ipython3",
   "version": "3.9.13"
  }
 },
 "nbformat": 4,
 "nbformat_minor": 5
}
